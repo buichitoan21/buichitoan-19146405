{
  "nbformat": 4,
  "nbformat_minor": 0,
  "metadata": {
    "colab": {
      "name": "face_shape.ipynb",
      "provenance": [],
      "collapsed_sections": []
    },
    "kernelspec": {
      "name": "python3",
      "display_name": "Python 3"
    },
    "language_info": {
      "name": "python"
    },
    "accelerator": "GPU"
  },
  "cells": [
    {
      "cell_type": "code",
      "execution_count": null,
      "metadata": {
        "id": "BV2CCom49bNa"
      },
      "outputs": [],
      "source": [
        "# Imports\n",
        "\n",
        "import pandas as pd\n",
        "import numpy as np\n",
        "import matplotlib.pyplot as plt\n",
        "\n",
        "import cv2\n",
        "import os\n",
        "from zipfile import ZipFile\n",
        "import time\n",
        "from datetime import datetime\n",
        "import itertools\n",
        "\n",
        "from sklearn.model_selection import train_test_split\n",
        "from sklearn.metrics import confusion_matrix\n",
        "\n",
        "import tensorflow as tf\n",
        "from tensorflow.keras.models import Sequential\n",
        "from tensorflow.keras.layers import Dense, MaxPooling2D\n",
        "from tensorflow.keras.layers import Conv2D, AveragePooling2D, GlobalAveragePooling2D, Dropout\n",
        "from tensorflow.keras import utils\n",
        "from tensorflow.keras.callbacks import TensorBoard, ModelCheckpoint\n",
        "\n",
        "import pickle\n",
        "from keras.utils import np_utils\n",
        "from sklearn.utils import shuffle\n",
        "\n",
        "# Setting random seeds to reduce the amount of randomness in the neural net weights and results\n",
        "# The results may still not be exactly reproducible\n",
        "\n",
        "np.random.seed(42)\n",
        "tf.random.set_seed(42)"
      ]
    },
    {
      "cell_type": "code",
      "source": [
        "def plot_history(history_fine):\n",
        "  f1 = history_fine.history['accuracy']\n",
        "  val_f1 = history_fine.history['val_accuracy']\n",
        "  loss = history_fine.history['loss']\n",
        "  val_loss = history_fine.history['val_loss']\n",
        "  plt.figure(figsize=(8, 8))\n",
        "  plt.subplot(2, 1, 1)\n",
        "  plt.plot(f1, label='Acc')\n",
        "  plt.plot(val_f1, label='Validation Acc')\n",
        "  plt.legend(loc='lower right')\n",
        "  plt.title('Accuracy')\n",
        "  plt.subplot(2, 1, 2)\n",
        "  plt.plot(loss, label='Loss')\n",
        "  plt.plot(val_loss, label='Validation Loss')\n",
        "  plt.legend(loc='upper right')\n",
        "  plt.title('Loss')\n",
        "  plt.xlabel('epoch')\n",
        "  plt.show()"
      ],
      "metadata": {
        "id": "TNbDhuNjN9Uc"
      },
      "execution_count": null,
      "outputs": []
    },
    {
      "cell_type": "code",
      "source": [
        "# Load Data \n",
        "import pickle\n",
        "from google.colab import drive"
      ],
      "metadata": {
        "id": "XKxpK9fG-y8u"
      },
      "execution_count": null,
      "outputs": []
    },
    {
      "cell_type": "code",
      "source": [
        "with open('/content/drive/MyDrive/Project_final_AI/train_age_4.pickle', 'rb') as f:\n",
        "    (x_train, y_train) = pickle.load(f)"
      ],
      "metadata": {
        "id": "FQCdEmpQ_Fwf"
      },
      "execution_count": null,
      "outputs": []
    },
    {
      "cell_type": "code",
      "source": [
        "# Preprocessing Data\n",
        "x_train = x_train.astype('float32')\n",
        "x_train /= 255\n",
        "\n",
        "# Encoding Y\n",
        "y_train = np_utils.to_categorical(y_train)\n",
        "\n",
        "# Shuffe Data\n",
        "x_train, y_train = shuffle(x_train, y_train)"
      ],
      "metadata": {
        "id": "-2VB7XFs-3He"
      },
      "execution_count": null,
      "outputs": []
    },
    {
      "cell_type": "code",
      "source": [
        "final_cnn = Sequential()\n",
        "\n",
        "\n",
        "final_cnn.add(Conv2D(filters=60, kernel_size=3, activation='relu', input_shape=(150, 150, 3)))    # 3rd dim = 1 for grayscale images.\n",
        "final_cnn.add(MaxPooling2D(pool_size=(2,2)))\n",
        "\n",
        "final_cnn.add(Conv2D(filters=50, kernel_size=3, activation='relu'))\n",
        "final_cnn.add(MaxPooling2D(pool_size=(2,2)))\n",
        "final_cnn.add(Dropout(0.2))\n",
        "\n",
        "final_cnn.add(Conv2D(filters=50, kernel_size=3, activation='relu', input_shape=(150, 150, 3)))\n",
        "final_cnn.add(MaxPooling2D(pool_size=(2,2)))\n",
        "final_cnn.add(Dropout(0.2))\n",
        "\n",
        "final_cnn.add(Conv2D(filters=40, kernel_size=3, activation='relu'))\n",
        "final_cnn.add(MaxPooling2D(pool_size=(2,2)))\n",
        "\n",
        "final_cnn.add(Conv2D(filters=30, kernel_size=3, activation='relu'))\n",
        "final_cnn.add(AveragePooling2D(pool_size=(2,2)))\n",
        "final_cnn.add(Dropout(0.2))\n",
        "\n",
        "final_cnn.add(GlobalAveragePooling2D())\n",
        "\n",
        "# final_cnn.Flatten()\n",
        "final_cnn.add(Dense(8, activation='softmax'))\n",
        "final_cnn.add(Dropout(0.2))\n",
        "# final_cnn.add(Dense(8, activation='softmax'))\n",
        "\n",
        "final_cnn.summary()\n",
        "\n",
        "final_cnn.compile(loss='categorical_crossentropy', optimizer='adam', metrics=['accuracy'])\n",
        "history = final_cnn.fit(x_train, y_train, epochs = 70, batch_size = 128, validation_split = 0.2)\n"
      ],
      "metadata": {
        "colab": {
          "base_uri": "https://localhost:8080/"
        },
        "id": "PT1TA5Yy_nuG",
        "outputId": "98a9fb6b-cf3a-47c3-df68-bfb44f11ced2"
      },
      "execution_count": null,
      "outputs": [
        {
          "output_type": "stream",
          "name": "stdout",
          "text": [
            "Model: \"sequential_2\"\n",
            "_________________________________________________________________\n",
            " Layer (type)                Output Shape              Param #   \n",
            "=================================================================\n",
            " conv2d_10 (Conv2D)          (None, 148, 148, 60)      1680      \n",
            "                                                                 \n",
            " max_pooling2d_8 (MaxPooling  (None, 74, 74, 60)       0         \n",
            " 2D)                                                             \n",
            "                                                                 \n",
            " conv2d_11 (Conv2D)          (None, 72, 72, 50)        27050     \n",
            "                                                                 \n",
            " max_pooling2d_9 (MaxPooling  (None, 36, 36, 50)       0         \n",
            " 2D)                                                             \n",
            "                                                                 \n",
            " dropout_8 (Dropout)         (None, 36, 36, 50)        0         \n",
            "                                                                 \n",
            " conv2d_12 (Conv2D)          (None, 34, 34, 50)        22550     \n",
            "                                                                 \n",
            " max_pooling2d_10 (MaxPoolin  (None, 17, 17, 50)       0         \n",
            " g2D)                                                            \n",
            "                                                                 \n",
            " dropout_9 (Dropout)         (None, 17, 17, 50)        0         \n",
            "                                                                 \n",
            " conv2d_13 (Conv2D)          (None, 15, 15, 40)        18040     \n",
            "                                                                 \n",
            " max_pooling2d_11 (MaxPoolin  (None, 7, 7, 40)         0         \n",
            " g2D)                                                            \n",
            "                                                                 \n",
            " conv2d_14 (Conv2D)          (None, 5, 5, 30)          10830     \n",
            "                                                                 \n",
            " average_pooling2d_2 (Averag  (None, 2, 2, 30)         0         \n",
            " ePooling2D)                                                     \n",
            "                                                                 \n",
            " dropout_10 (Dropout)        (None, 2, 2, 30)          0         \n",
            "                                                                 \n",
            " global_average_pooling2d_2   (None, 30)               0         \n",
            " (GlobalAveragePooling2D)                                        \n",
            "                                                                 \n",
            " dense_2 (Dense)             (None, 8)                 248       \n",
            "                                                                 \n",
            " dropout_11 (Dropout)        (None, 8)                 0         \n",
            "                                                                 \n",
            "=================================================================\n",
            "Total params: 80,398\n",
            "Trainable params: 80,398\n",
            "Non-trainable params: 0\n",
            "_________________________________________________________________\n",
            "Epoch 1/70\n",
            "46/46 [==============================] - 7s 139ms/step - loss: 4.6112 - accuracy: 0.1435 - val_loss: 2.0456 - val_accuracy: 0.1463\n",
            "Epoch 2/70\n",
            "46/46 [==============================] - 6s 132ms/step - loss: 4.5017 - accuracy: 0.1714 - val_loss: 2.0164 - val_accuracy: 0.1889\n",
            "Epoch 3/70\n",
            "46/46 [==============================] - 6s 132ms/step - loss: 4.7120 - accuracy: 0.1818 - val_loss: 2.0048 - val_accuracy: 0.1854\n",
            "Epoch 4/70\n",
            "46/46 [==============================] - 6s 135ms/step - loss: 4.6847 - accuracy: 0.1914 - val_loss: 1.9673 - val_accuracy: 0.2109\n",
            "Epoch 5/70\n",
            "46/46 [==============================] - 6s 133ms/step - loss: 4.5983 - accuracy: 0.2181 - val_loss: 1.8965 - val_accuracy: 0.2452\n",
            "Epoch 6/70\n",
            "46/46 [==============================] - 6s 132ms/step - loss: 4.5457 - accuracy: 0.2524 - val_loss: 1.8177 - val_accuracy: 0.2589\n",
            "Epoch 7/70\n",
            "46/46 [==============================] - 6s 133ms/step - loss: 4.5147 - accuracy: 0.2812 - val_loss: 1.7223 - val_accuracy: 0.3111\n",
            "Epoch 8/70\n",
            "46/46 [==============================] - 6s 132ms/step - loss: 4.3461 - accuracy: 0.3096 - val_loss: 1.6506 - val_accuracy: 0.3434\n",
            "Epoch 9/70\n",
            "46/46 [==============================] - 6s 133ms/step - loss: 4.3147 - accuracy: 0.3316 - val_loss: 1.6034 - val_accuracy: 0.3757\n",
            "Epoch 10/70\n",
            "46/46 [==============================] - 6s 133ms/step - loss: 4.4114 - accuracy: 0.3412 - val_loss: 1.5683 - val_accuracy: 0.3757\n",
            "Epoch 11/70\n",
            "46/46 [==============================] - 6s 133ms/step - loss: 4.2865 - accuracy: 0.3573 - val_loss: 1.5054 - val_accuracy: 0.3798\n",
            "Epoch 12/70\n",
            "46/46 [==============================] - 6s 134ms/step - loss: 4.4588 - accuracy: 0.3429 - val_loss: 1.5136 - val_accuracy: 0.3942\n",
            "Epoch 13/70\n",
            "46/46 [==============================] - 6s 134ms/step - loss: 4.3531 - accuracy: 0.3705 - val_loss: 1.4778 - val_accuracy: 0.4217\n",
            "Epoch 14/70\n",
            "46/46 [==============================] - 6s 133ms/step - loss: 4.2084 - accuracy: 0.3728 - val_loss: 1.4988 - val_accuracy: 0.3963\n",
            "Epoch 15/70\n",
            "46/46 [==============================] - 6s 132ms/step - loss: 4.2162 - accuracy: 0.3752 - val_loss: 1.4831 - val_accuracy: 0.4190\n",
            "Epoch 16/70\n",
            "46/46 [==============================] - 6s 133ms/step - loss: 4.2746 - accuracy: 0.3894 - val_loss: 1.4053 - val_accuracy: 0.4348\n",
            "Epoch 17/70\n",
            "46/46 [==============================] - 6s 134ms/step - loss: 4.3461 - accuracy: 0.3786 - val_loss: 1.4125 - val_accuracy: 0.4265\n",
            "Epoch 18/70\n",
            "46/46 [==============================] - 6s 135ms/step - loss: 4.2162 - accuracy: 0.3973 - val_loss: 1.3963 - val_accuracy: 0.4396\n",
            "Epoch 19/70\n",
            "46/46 [==============================] - 6s 135ms/step - loss: 4.1171 - accuracy: 0.3937 - val_loss: 1.4006 - val_accuracy: 0.4327\n",
            "Epoch 20/70\n",
            "46/46 [==============================] - 6s 134ms/step - loss: 4.1442 - accuracy: 0.4050 - val_loss: 1.4296 - val_accuracy: 0.4299\n",
            "Epoch 21/70\n",
            "46/46 [==============================] - 6s 134ms/step - loss: 4.3336 - accuracy: 0.3893 - val_loss: 1.3772 - val_accuracy: 0.4341\n",
            "Epoch 22/70\n",
            "46/46 [==============================] - 6s 135ms/step - loss: 4.2300 - accuracy: 0.3932 - val_loss: 1.3900 - val_accuracy: 0.4286\n",
            "Epoch 23/70\n",
            "46/46 [==============================] - 6s 135ms/step - loss: 4.1418 - accuracy: 0.4141 - val_loss: 1.3896 - val_accuracy: 0.4547\n",
            "Epoch 24/70\n",
            "46/46 [==============================] - 6s 135ms/step - loss: 4.2339 - accuracy: 0.4056 - val_loss: 1.3785 - val_accuracy: 0.4402\n",
            "Epoch 25/70\n",
            "46/46 [==============================] - 6s 135ms/step - loss: 4.1648 - accuracy: 0.4102 - val_loss: 1.3852 - val_accuracy: 0.4519\n",
            "Epoch 26/70\n",
            "46/46 [==============================] - 6s 135ms/step - loss: 4.1415 - accuracy: 0.4117 - val_loss: 1.3864 - val_accuracy: 0.4396\n",
            "Epoch 27/70\n",
            "46/46 [==============================] - 6s 135ms/step - loss: 4.1572 - accuracy: 0.4215 - val_loss: 1.3902 - val_accuracy: 0.4471\n",
            "Epoch 28/70\n",
            "46/46 [==============================] - 6s 136ms/step - loss: 4.1032 - accuracy: 0.4275 - val_loss: 1.3683 - val_accuracy: 0.4382\n",
            "Epoch 29/70\n",
            "46/46 [==============================] - 6s 136ms/step - loss: 4.0851 - accuracy: 0.4284 - val_loss: 1.3306 - val_accuracy: 0.4526\n",
            "Epoch 30/70\n",
            "46/46 [==============================] - 6s 135ms/step - loss: 4.2680 - accuracy: 0.4147 - val_loss: 1.3711 - val_accuracy: 0.4354\n",
            "Epoch 31/70\n",
            "46/46 [==============================] - 6s 137ms/step - loss: 4.1346 - accuracy: 0.4287 - val_loss: 1.3240 - val_accuracy: 0.4615\n",
            "Epoch 32/70\n",
            "46/46 [==============================] - 6s 137ms/step - loss: 4.1966 - accuracy: 0.4234 - val_loss: 1.3209 - val_accuracy: 0.4670\n",
            "Epoch 33/70\n",
            "46/46 [==============================] - 6s 136ms/step - loss: 4.0555 - accuracy: 0.4370 - val_loss: 1.3419 - val_accuracy: 0.4492\n",
            "Epoch 34/70\n",
            "46/46 [==============================] - 6s 137ms/step - loss: 4.0372 - accuracy: 0.4378 - val_loss: 1.3147 - val_accuracy: 0.4560\n",
            "Epoch 35/70\n",
            "46/46 [==============================] - 6s 135ms/step - loss: 4.1417 - accuracy: 0.4318 - val_loss: 1.3425 - val_accuracy: 0.4437\n",
            "Epoch 36/70\n",
            "46/46 [==============================] - 6s 136ms/step - loss: 4.0387 - accuracy: 0.4459 - val_loss: 1.3157 - val_accuracy: 0.4540\n",
            "Epoch 37/70\n",
            "46/46 [==============================] - 6s 136ms/step - loss: 3.9691 - accuracy: 0.4493 - val_loss: 1.3210 - val_accuracy: 0.4554\n",
            "Epoch 38/70\n",
            "46/46 [==============================] - 6s 136ms/step - loss: 4.0299 - accuracy: 0.4480 - val_loss: 1.3540 - val_accuracy: 0.4547\n",
            "Epoch 39/70\n",
            "46/46 [==============================] - 6s 136ms/step - loss: 4.1344 - accuracy: 0.4375 - val_loss: 1.3064 - val_accuracy: 0.4629\n",
            "Epoch 40/70\n",
            "46/46 [==============================] - 6s 137ms/step - loss: 4.1034 - accuracy: 0.4392 - val_loss: 1.3059 - val_accuracy: 0.4643\n",
            "Epoch 41/70\n",
            "46/46 [==============================] - 6s 136ms/step - loss: 3.9790 - accuracy: 0.4454 - val_loss: 1.3149 - val_accuracy: 0.4581\n",
            "Epoch 42/70\n",
            "46/46 [==============================] - 6s 136ms/step - loss: 3.9417 - accuracy: 0.4622 - val_loss: 1.2842 - val_accuracy: 0.4684\n",
            "Epoch 43/70\n",
            "46/46 [==============================] - 6s 137ms/step - loss: 4.0595 - accuracy: 0.4581 - val_loss: 1.3053 - val_accuracy: 0.4602\n",
            "Epoch 44/70\n",
            "46/46 [==============================] - 6s 136ms/step - loss: 3.9885 - accuracy: 0.4572 - val_loss: 1.2743 - val_accuracy: 0.4835\n",
            "Epoch 45/70\n",
            "46/46 [==============================] - 6s 137ms/step - loss: 4.1810 - accuracy: 0.4518 - val_loss: 1.2821 - val_accuracy: 0.4657\n",
            "Epoch 46/70\n",
            "46/46 [==============================] - 6s 136ms/step - loss: 4.0484 - accuracy: 0.4560 - val_loss: 1.2747 - val_accuracy: 0.4876\n",
            "Epoch 47/70\n",
            "46/46 [==============================] - 6s 136ms/step - loss: 4.1221 - accuracy: 0.4509 - val_loss: 1.2967 - val_accuracy: 0.4753\n",
            "Epoch 48/70\n",
            "46/46 [==============================] - 6s 136ms/step - loss: 4.0716 - accuracy: 0.4681 - val_loss: 1.2688 - val_accuracy: 0.4835\n",
            "Epoch 49/70\n",
            "46/46 [==============================] - 6s 136ms/step - loss: 4.0375 - accuracy: 0.4607 - val_loss: 1.3159 - val_accuracy: 0.4725\n",
            "Epoch 50/70\n",
            "46/46 [==============================] - 6s 136ms/step - loss: 4.0483 - accuracy: 0.4610 - val_loss: 1.2875 - val_accuracy: 0.4760\n",
            "Epoch 51/70\n",
            "46/46 [==============================] - 6s 136ms/step - loss: 4.0653 - accuracy: 0.4633 - val_loss: 1.2531 - val_accuracy: 0.4918\n",
            "Epoch 52/70\n",
            "46/46 [==============================] - 6s 135ms/step - loss: 4.1645 - accuracy: 0.4619 - val_loss: 1.2943 - val_accuracy: 0.4766\n",
            "Epoch 53/70\n",
            "46/46 [==============================] - 6s 136ms/step - loss: 3.8805 - accuracy: 0.4665 - val_loss: 1.2756 - val_accuracy: 0.4856\n",
            "Epoch 54/70\n",
            "46/46 [==============================] - 6s 138ms/step - loss: 4.1165 - accuracy: 0.4700 - val_loss: 1.2659 - val_accuracy: 0.4794\n",
            "Epoch 55/70\n",
            "46/46 [==============================] - 6s 135ms/step - loss: 3.9845 - accuracy: 0.4696 - val_loss: 1.2500 - val_accuracy: 0.4952\n",
            "Epoch 56/70\n",
            "46/46 [==============================] - 6s 135ms/step - loss: 4.0387 - accuracy: 0.4712 - val_loss: 1.2494 - val_accuracy: 0.4924\n",
            "Epoch 57/70\n",
            "46/46 [==============================] - 6s 136ms/step - loss: 3.9717 - accuracy: 0.4864 - val_loss: 1.2759 - val_accuracy: 0.4746\n",
            "Epoch 58/70\n",
            "46/46 [==============================] - 6s 135ms/step - loss: 3.7791 - accuracy: 0.4852 - val_loss: 1.2797 - val_accuracy: 0.4739\n",
            "Epoch 59/70\n",
            "46/46 [==============================] - 6s 137ms/step - loss: 3.9443 - accuracy: 0.4694 - val_loss: 1.2546 - val_accuracy: 0.4890\n",
            "Epoch 60/70\n",
            "46/46 [==============================] - 6s 136ms/step - loss: 3.9481 - accuracy: 0.4827 - val_loss: 1.2747 - val_accuracy: 0.4773\n",
            "Epoch 61/70\n",
            "46/46 [==============================] - 6s 136ms/step - loss: 3.8116 - accuracy: 0.4827 - val_loss: 1.2706 - val_accuracy: 0.4849\n",
            "Epoch 62/70\n",
            "46/46 [==============================] - 6s 136ms/step - loss: 3.9669 - accuracy: 0.4828 - val_loss: 1.2892 - val_accuracy: 0.4670\n",
            "Epoch 63/70\n",
            "46/46 [==============================] - 6s 136ms/step - loss: 3.9700 - accuracy: 0.4821 - val_loss: 1.2533 - val_accuracy: 0.4938\n",
            "Epoch 64/70\n",
            "46/46 [==============================] - 6s 136ms/step - loss: 3.9585 - accuracy: 0.4856 - val_loss: 1.2470 - val_accuracy: 0.4808\n",
            "Epoch 65/70\n",
            "46/46 [==============================] - 6s 136ms/step - loss: 4.0201 - accuracy: 0.4821 - val_loss: 1.2328 - val_accuracy: 0.5007\n",
            "Epoch 66/70\n",
            "46/46 [==============================] - 6s 136ms/step - loss: 3.9666 - accuracy: 0.4833 - val_loss: 1.2785 - val_accuracy: 0.4821\n",
            "Epoch 67/70\n",
            "46/46 [==============================] - 6s 136ms/step - loss: 3.8482 - accuracy: 0.4887 - val_loss: 1.2384 - val_accuracy: 0.5014\n",
            "Epoch 68/70\n",
            "46/46 [==============================] - 6s 136ms/step - loss: 4.0456 - accuracy: 0.4885 - val_loss: 1.2577 - val_accuracy: 0.4766\n",
            "Epoch 69/70\n",
            "46/46 [==============================] - 6s 136ms/step - loss: 4.0370 - accuracy: 0.4871 - val_loss: 1.2398 - val_accuracy: 0.4849\n",
            "Epoch 70/70\n",
            "46/46 [==============================] - 6s 136ms/step - loss: 4.0528 - accuracy: 0.4835 - val_loss: 1.2621 - val_accuracy: 0.4924\n"
          ]
        }
      ]
    },
    {
      "cell_type": "code",
      "source": [
        "plot_history(history)"
      ],
      "metadata": {
        "id": "dD55u5iwCYl5",
        "colab": {
          "base_uri": "https://localhost:8080/"
        },
        "outputId": "f415dd35-315f-4526-8bd5-2e9a64da6b68"
      },
      "execution_count": null,
      "outputs": [
        {
          "output_type": "display_data",
          "data": {
            "text/plain": [
              "<Figure size 576x576 with 2 Axes>"
            ],
            "image/png": "[encoded data removed]"
          },
          "metadata": {
            "needs_background": "light"
          }
        }
      ]
    },
    {
      "cell_type": "code",
      "source": [
        ""
      ],
      "metadata": {
        "id": "5C4XlorgCawg"
      },
      "execution_count": null,
      "outputs": []
    },
    {
      "cell_type": "code",
      "source": [
        "final_cnn.save(\"model_shape_face_1.h5\")"
      ],
      "metadata": {
        "id": "jvTOfpcICcYw"
      },
      "execution_count": null,
      "outputs": []
    },
    {
      "cell_type": "code",
      "source": [
        ""
      ],
      "metadata": {
        "id": "KXzsR0o7RkZn"
      },
      "execution_count": null,
      "outputs": []
    }
  ]
}