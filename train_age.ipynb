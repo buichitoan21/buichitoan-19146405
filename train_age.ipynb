{
  "cells": [
    {
      "cell_type": "code",
      "execution_count": null,
      "metadata": {
        "id": "VTNZZN7ekkSx"
      },
      "outputs": [],
      "source": [
        "# Imports\n",
        "import pandas as pd\n",
        "import numpy as np\n",
        "import matplotlib.pyplot as plt\n",
        "\n",
        "import cv2\n",
        "import os\n",
        "from zipfile import ZipFile\n",
        "import time\n",
        "from datetime import datetime\n",
        "import itertools\n",
        "\n",
        "from sklearn.model_selection import train_test_split\n",
        "from sklearn.metrics import confusion_matrix\n",
        "\n",
        "import tensorflow as tf\n",
        "from tensorflow.keras.models import Sequential\n",
        "from tensorflow.keras.layers import Dense,Dropout,Flatten,Conv2D,MaxPool2D,ZeroPadding2D,Activation\n",
        "from tensorflow.keras.layers import Conv2D, AveragePooling2D, GlobalAveragePooling2D, MaxPool2D,Dense,Dropout,BatchNormalization,Flatten,Input\n",
        "from tensorflow.keras import utils\n",
        "from tensorflow.keras.callbacks import TensorBoard, ModelCheckpoint\n",
        "\n",
        "import pickle\n",
        "from keras.utils import np_utils\n",
        "from sklearn.utils import shuffle\n",
        "\n",
        "\n",
        "np.random.seed(42)\n",
        "tf.random.set_seed(42)"
      ]
    },
    {
      "cell_type": "code",
      "execution_count": null,
      "metadata": {
        "id": "P29bdlheqYMJ"
      },
      "outputs": [],
      "source": [
        "def plot_history(history_fine):\n",
        "  f1 = history_fine.history['accuracy']\n",
        "  val_f1 = history_fine.history['val_accuracy']\n",
        "\n",
        "  loss = history_fine.history['loss']\n",
        "  val_loss = history_fine.history['val_loss']\n",
        "\n",
        "  plt.figure(figsize=(8, 8))\n",
        "  plt.subplot(2, 1, 1)\n",
        "  plt.plot(f1, label='Acc')\n",
        "  plt.plot(val_f1, label='Validation Acc')\n",
        "  plt.legend(loc='lower right')\n",
        "  plt.title('Accuracy')\n",
        "\n",
        "  plt.subplot(2, 1, 2)\n",
        "  plt.plot(loss, label='Loss')\n",
        "  plt.plot(val_loss, label='Validation Loss')\n",
        "  plt.legend(loc='upper right')\n",
        "  plt.title('Loss')\n",
        "  plt.xlabel('epoch')\n",
        "  plt.show()\n",
        "\n",
        "def plot_reg_history(history_fine):\n",
        "  loss = history_fine.history['loss']\n",
        "  val_loss = history_fine.history['val_loss']\n",
        "  plt.subplot(2, 1, 2)\n",
        "  plt.plot(loss, label='Loss')\n",
        "  plt.plot(val_loss, label='Validation Loss')\n",
        "  plt.legend(loc='upper right')\n",
        "  plt.title('Loss')\n",
        "  plt.xlabel('epoch')\n",
        "  plt.show()"
      ]
    },
    {
      "cell_type": "code",
      "execution_count": null,
      "metadata": {
        "id": "v4aer8Zblj7q"
      },
      "outputs": [],
      "source": [
        "# Load Data \n",
        "import pickle\n",
        "from google.colab import drive"
      ]
    },
    {
      "cell_type": "code",
      "execution_count": null,
      "metadata": {
        "id": "w38q1xBQl_Tq"
      },
      "outputs": [],
      "source": [
        "with open('/content/drive/MyDrive/model_AI/train_age_4.pickle', 'rb') as f:\n",
        "    (x_train, y_train) = pickle.load(f)"
      ]
    },
    {
      "cell_type": "code",
      "execution_count": null,
      "metadata": {
        "id": "cvI3FFZGmdoC"
      },
      "outputs": [],
      "source": [
        "# Preprocessing Data\n",
        "x_train = x_train.astype('float32')\n",
        "x_train /= 255\n",
        "\n",
        "# Encoding Y\n",
        "y_train = np_utils.to_categorical(y_train, 8)\n",
        "\n",
        "# Shuffe Data\n",
        "x_train, y_train = shuffle(x_train, y_train)"
      ]
    },
    {
      "cell_type": "code",
      "execution_count": null,
      "metadata": {
        "colab": {
          "base_uri": "https://localhost:8080/"
        },
        "id": "yXUCF12fm8Di",
        "outputId": "a7163974-c561-4294-a45e-c1af21757b59"
      },
      "outputs": [
        {
          "output_type": "stream",
          "name": "stdout",
          "text": [
            "Epoch 1/25\n",
            "46/46 [==============================] - 56s 1s/step - loss: 3.5651 - accuracy: 0.2995 - val_loss: 2.6932 - val_accuracy: 0.2328\n",
            "Epoch 2/25\n",
            "46/46 [==============================] - 54s 1s/step - loss: 2.6536 - accuracy: 0.3911 - val_loss: 2.1919 - val_accuracy: 0.2857\n",
            "Epoch 3/25\n",
            "46/46 [==============================] - 55s 1s/step - loss: 2.3787 - accuracy: 0.4257 - val_loss: 3.1231 - val_accuracy: 0.2637\n",
            "Epoch 4/25\n",
            "46/46 [==============================] - 54s 1s/step - loss: 2.2705 - accuracy: 0.4296 - val_loss: 2.6230 - val_accuracy: 0.2734\n",
            "Epoch 5/25\n",
            "46/46 [==============================] - 54s 1s/step - loss: 2.2652 - accuracy: 0.4547 - val_loss: 2.3861 - val_accuracy: 0.3008\n",
            "Epoch 6/25\n",
            "46/46 [==============================] - 54s 1s/step - loss: 1.8892 - accuracy: 0.5129 - val_loss: 2.3217 - val_accuracy: 0.3159\n",
            "Epoch 7/25\n",
            "46/46 [==============================] - 54s 1s/step - loss: 1.7856 - accuracy: 0.5258 - val_loss: 4.1350 - val_accuracy: 0.3049\n",
            "Epoch 8/25\n",
            "46/46 [==============================] - 54s 1s/step - loss: 1.6901 - accuracy: 0.5555 - val_loss: 3.3825 - val_accuracy: 0.3242\n",
            "Epoch 9/25\n",
            "46/46 [==============================] - 54s 1s/step - loss: 1.6407 - accuracy: 0.5646 - val_loss: 3.0482 - val_accuracy: 0.4196\n",
            "Epoch 10/25\n",
            "46/46 [==============================] - 54s 1s/step - loss: 1.4826 - accuracy: 0.5860 - val_loss: 3.4854 - val_accuracy: 0.3262\n",
            "Epoch 11/25\n",
            "46/46 [==============================] - 54s 1s/step - loss: 1.6366 - accuracy: 0.5816 - val_loss: 6.0151 - val_accuracy: 0.2898\n",
            "Epoch 12/25\n",
            "46/46 [==============================] - 54s 1s/step - loss: 1.3793 - accuracy: 0.6394 - val_loss: 4.4529 - val_accuracy: 0.3207\n",
            "Epoch 13/25\n",
            "46/46 [==============================] - 54s 1s/step - loss: 1.2300 - accuracy: 0.6453 - val_loss: 2.5909 - val_accuracy: 0.4135\n",
            "Epoch 14/25\n",
            "46/46 [==============================] - 54s 1s/step - loss: 1.3424 - accuracy: 0.6441 - val_loss: 2.5795 - val_accuracy: 0.4258\n",
            "Epoch 15/25\n",
            "46/46 [==============================] - 54s 1s/step - loss: 1.0932 - accuracy: 0.6779 - val_loss: 2.4089 - val_accuracy: 0.4334\n",
            "Epoch 16/25\n",
            "46/46 [==============================] - 54s 1s/step - loss: 1.2603 - accuracy: 0.6781 - val_loss: 2.9160 - val_accuracy: 0.3984\n",
            "Epoch 17/25\n",
            "46/46 [==============================] - 54s 1s/step - loss: 0.9880 - accuracy: 0.7110 - val_loss: 5.1922 - val_accuracy: 0.4135\n",
            "Epoch 18/25\n",
            "46/46 [==============================] - 54s 1s/step - loss: 0.9166 - accuracy: 0.7462 - val_loss: 4.1111 - val_accuracy: 0.3290\n",
            "Epoch 19/25\n",
            "46/46 [==============================] - 54s 1s/step - loss: 0.9596 - accuracy: 0.7222 - val_loss: 6.4150 - val_accuracy: 0.4306\n",
            "Epoch 20/25\n",
            "46/46 [==============================] - 54s 1s/step - loss: 0.8334 - accuracy: 0.7799 - val_loss: 4.5464 - val_accuracy: 0.4245\n",
            "Epoch 21/25\n",
            "46/46 [==============================] - 54s 1s/step - loss: 0.7595 - accuracy: 0.7764 - val_loss: 3.6501 - val_accuracy: 0.4361\n",
            "Epoch 22/25\n",
            "46/46 [==============================] - 54s 1s/step - loss: 0.6553 - accuracy: 0.8048 - val_loss: 4.5859 - val_accuracy: 0.4519\n",
            "Epoch 23/25\n",
            "46/46 [==============================] - 54s 1s/step - loss: 0.5803 - accuracy: 0.8305 - val_loss: 3.3925 - val_accuracy: 0.4306\n",
            "Epoch 24/25\n",
            "46/46 [==============================] - 54s 1s/step - loss: 0.8434 - accuracy: 0.7680 - val_loss: 2.3350 - val_accuracy: 0.3571\n",
            "Epoch 25/25\n",
            "46/46 [==============================] - 53s 1s/step - loss: 0.8121 - accuracy: 0.7859 - val_loss: 2.7226 - val_accuracy: 0.4087\n"
          ]
        }
      ],
      "source": [
        "model = Sequential()\n",
        "\n",
        "model.add(Conv2D(filters = 8, kernel_size = (5,5), padding = \"Same\", activation = \"relu\", input_shape = (150,150,3)))\n",
        "model.add(Conv2D(140,(3,3),activation=\"relu\"))\n",
        "\n",
        "model.add(Conv2D(130,(3,3),activation=\"relu\"))\n",
        "model.add(BatchNormalization())\n",
        "model.add(MaxPool2D(2,2))\n",
        "\n",
        "model.add(Conv2D(120,(3,3),activation=\"relu\"))\n",
        "model.add(BatchNormalization())\n",
        "model.add(MaxPool2D((2,2)))\n",
        "\n",
        "model.add(Conv2D(120,(3,3),activation=\"relu\"))\n",
        "model.add(BatchNormalization())\n",
        "model.add(MaxPool2D((2,2)))\n",
        "\n",
        "model.add(Flatten())\n",
        "model.add(Dropout(0.25))\n",
        "model.add(Dense(8))\n",
        "model.add(Activation(\"softmax\"))\n",
        "model.compile(loss='categorical_crossentropy', optimizer='adam', metrics=['accuracy'])\n",
        "history = model.fit(x_train, y_train, epochs = 25, batch_size = 128, validation_split = 0.2)\n"
      ]
    },
    {
      "cell_type": "code",
      "execution_count": null,
      "metadata": {
        "id": "2jC6SgOVqT0p",
        "colab": {
          "base_uri": "https://localhost:8080/",
          "height": 513
        },
        "outputId": "803c1bb0-e0b8-4640-b16a-18c3f826f6f8"
      },
      "outputs": [
        {
          "output_type": "display_data",
          "data": {
            "text/plain": [
              "<Figure size 576x576 with 2 Axes>"
            ],
            "image/png": "[encoded data removed]"
          },
          "metadata": {
            "needs_background": "light"
          }
        }
      ],
      "source": [
        "plot_history(history)"
      ]
    },
    {
      "cell_type": "code",
      "execution_count": null,
      "metadata": {
        "id": "nZSx1CtUoyU5"
      },
      "outputs": [],
      "source": [
        "model.save(\"model_age_10.h5\")"
      ]
    },
    {
      "cell_type": "code",
      "execution_count": null,
      "metadata": {
        "id": "F5qQih1cs5oU"
      },
      "outputs": [],
      "source": [
        ""
      ]
    }
  ],
  "metadata": {
    "accelerator": "GPU",
    "colab": {
      "collapsed_sections": [],
      "name": "train_age.ipynb",
      "provenance": []
    },
    "gpuClass": "standard",
    "kernelspec": {
      "display_name": "Python 3",
      "name": "python3"
    },
    "language_info": {
      "name": "python"
    }
  },
  "nbformat": 4,
  "nbformat_minor": 0
}